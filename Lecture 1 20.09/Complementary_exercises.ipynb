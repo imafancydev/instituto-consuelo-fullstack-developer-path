{
 "cells": [
  {
   "cell_type": "markdown",
   "id": "363712b4",
   "metadata": {},
   "source": [
    "\n",
    "# Atividades Assíncronas de Banco de Dados\n",
    "\n",
    "Aluno: **Lucas Augusto Vieira Leão**\n",
    "Data: **20/09/2025**\n",
    "Disciplina: **Banco de Dados**  \n",
    "Professor: **Douglas Silva & Júlio César Brito**\n"
   ]
  },
  {
   "cell_type": "markdown",
   "id": "1b8a792c",
   "metadata": {},
   "source": [
    "\n",
    "## 1. Pesquisa sobre SGBDs\n",
    "\n",
    "### Descrição\n",
    "Pesquisei sobre o SGBD **SQLite**.\n",
    "\n",
    "### Texto\n",
    "Principais características: Leve, rápido e confiável\n",
    "Casos de uso típicos: Vi que ele não precisa de servidor dedicado, então seria uma boa opção para aplicações IoT ou sistemas embarcados, para aplicações web simples que só precisam armazenar o básico, também me parece uma boa.\n",
    "Vantagens: Leve e simples como não precisa de servidor, roda direto em arquivos, armazenamento local e simples, uma boa para app mobile.\n",
    "Desvantagens: Por ser leve e simples, escalar com ele nao e uma boa ideia, logo, ele tem recursos limitados então ele so serve para fazer coisas simples.\n"
   ]
  },
  {
   "cell_type": "markdown",
   "id": "e98acba8",
   "metadata": {},
   "source": [
    "\n",
    "## 2. Script SQL Prático\n",
    "\n",
    "### Criação de Tabelas e Inserção de Dados\n",
    "Explicação breve sobre as tabelas escolhidas.\n"
   ]
  },
  {
   "metadata": {
    "SqlCellData": {
     "variableName$1": "df_sql1"
    }
   },
   "cell_type": "code",
   "source": [
    "%%sql\n",
    "CREATE TABLE itens_dark_souls (\n",
    "    id_item SERIAL PRIMARY KEY,\n",
    "    nome VARCHAR(100) NOT NULL\n",
    ");\n",
    "\n",
    "CREATE TABLE itens (\n",
    "    id_item SERIAL PRIMARY KEY,\n",
    "    id_item_dark_souls INT NOT NULL,\n",
    "    nome VARCHAR(100) NOT NULL,\n",
    "    tipo VARCHAR(100) NOT NULL,\n",
    "    item_description TEXT NOT NULL,\n",
    "    FOREIGN KEY (id_item_dark_souls) REFERENCES itens_dark_souls(id_item)\n",
    ");\n",
    "\n",
    "INSERT INTO itens_dark_souls (nome)\n",
    "VALUES ('Espada'), ('Anel'), ('Armadura'), ('Escudo'), ('Consumíveis');\n",
    "\n",
    "INSERT INTO itens (id_item_dark_souls, nome, tipo, item_description)\n",
    "VALUES\n",
    "(1, 'Espada Longa', 'Espada', 'Uma espada padrão usada por cavaleiros. Balanceada e confiável.'),\n",
    "(1, 'Espada do Cavaleiro Negro', 'Espada Grande', 'Empunhada pelos cavaleiros negros, imbuída de poder sombrio.'),\n",
    "(1, 'Claymore', 'Espada', 'Espada grande usada por cavaleiros.'),\n",
    "(1, 'Espada Bastarda', 'Espada', 'Versátil, pode ser usada com uma ou duas mãos.'),\n",
    "(1, 'Espada de Astora', 'Espada', 'Arma sagrada de um cavaleiro lendário.');\n",
    "\n",
    "INSERT INTO itens (id_item_dark_souls, nome, tipo, item_description)\n",
    "VALUES\n",
    "(2, 'Anel de Havel', 'Anel', 'Aumenta a carga máxima de equipamento.'),\n",
    "(2, 'Anel da Clorantia', 'Anel', 'Aumenta a recuperação de estamina.');\n",
    "\n",
    "INSERT INTO itens (id_item_dark_souls, nome, tipo, item_description)\n",
    "VALUES\n",
    "(3, 'Armadura de Catarina', 'Armadura Pesada', 'A armadura peculiar em forma de cebola, usada por Siegward de Catarina.');\n",
    "\n",
    "INSERT INTO itens (id_item_dark_souls, nome, tipo, item_description)\n",
    "VALUES\n",
    "(4, 'Grande Escudo de Havel', 'Escudo Pesado', 'Um enorme escudo de pedra, quase impenetrável.');\n",
    "\n",
    "INSERT INTO itens (id_item_dark_souls, nome, tipo, item_description)\n",
    "VALUES\n",
    "(5, 'Frasco de Estus', 'Consumível', 'Recupera pontos de vida.'),\n",
    "(5, 'Bomba de Fogo', 'Consumível', 'Explosivo arremessável que causa dano de fogo.');\n",
    "\n",
    "SELECT * FROM itens WHERE tipo = 'Espada';\n",
    "SELECT * FROM itens WHERE tipo = 'Anel';\n",
    "SELECT * FROM itens WHERE tipo = 'Consumível';\n",
    "\n",
    "SELECT * FROM itens ORDER BY nome ASC;\n",
    "\n",
    "SELECT itens.nome AS item_nome,\n",
    "       itens.tipo,\n",
    "       itens_dark_souls.nome AS categoria\n",
    "FROM itens\n",
    "JOIN itens_dark_souls\n",
    "ON itens.id_item_dark_souls = itens_dark_souls.id_item;"
   ],
   "id": "15015b8ebe2b5f9b",
   "outputs": [],
   "execution_count": null
  },
  {
   "cell_type": "markdown",
   "id": "4dc1592c",
   "metadata": {},
   "source": [
    "\n",
    "## 3. Modelagem de Sistema\n",
    "\n",
    "### Sistema escolhido: Escola\n",
    "\n",
    "- Tabelas: Alunos, Turmas, Professores, Disciplinas, Matrículas  \n",
    "- Relacionamentos explicados  \n",
    "- Justificativa dos tipos de dados  \n",
    "- Identificação das chaves primárias e estrangeiras  \n",
    "\n",
    "*(Se quiser, pode incluir um diagrama simples com Mermaid ou até uma imagem exportada do Draw.io.)*\n"
   ]
  },
  {
   "cell_type": "markdown",
   "id": "392044c3",
   "metadata": {},
   "source": [
    "\n",
    "## 4. Leitura Complementar\n",
    "\n",
    "### Resumo da leitura\n",
    "- Principais pontos aprendidos no capítulo/artigo  \n",
    "- Relação com os exercícios práticos  \n"
   ]
  },
  {
   "cell_type": "markdown",
   "id": "61ab30db",
   "metadata": {},
   "source": [
    "\n",
    "## 5. Reflexão Crítica\n",
    "\n",
    "### Tema: SQL vs. Excel\n",
    "Escreva aqui o texto de 1 página sobre quando usar SQL/Banco de Dados e quando usar Excel.\n"
   ]
  },
  {
   "cell_type": "markdown",
   "id": "c95ef27f",
   "metadata": {},
   "source": [
    "\n",
    "## 6. Prática com Dataset Real\n",
    "\n",
    "### Dataset escolhido\n",
    "- Fonte: (coloque o link do CSV)  \n",
    "- Descrição dos dados\n"
   ]
  },
  {
   "cell_type": "code",
   "id": "edf756ab",
   "metadata": {},
   "source": [
    "\n",
    "# Importando bibliotecas\n",
    "import pandas as pd\n",
    "import sqlalchemy\n",
    "\n",
    "# Carregar dataset no Pandas\n",
    "df = pd.read_csv(\"arquivo.csv\")\n",
    "df.head()\n"
   ],
   "outputs": [],
   "execution_count": null
  },
  {
   "cell_type": "code",
   "id": "90f2d253",
   "metadata": {},
   "source": [
    "\n",
    "-- Criação da tabela no PostgreSQL\n",
    "CREATE TABLE ...;\n"
   ],
   "outputs": [],
   "execution_count": null
  },
  {
   "cell_type": "code",
   "id": "c782914a",
   "metadata": {},
   "source": [
    "\n",
    "-- Consultas SQL\n",
    "SELECT ...;\n"
   ],
   "outputs": [],
   "execution_count": null
  },
  {
   "cell_type": "markdown",
   "id": "b487d84a",
   "metadata": {},
   "source": [
    "\n",
    "### Insights encontrados\n",
    "1. ...\n",
    "2. ...\n",
    "3. ...\n"
   ]
  }
 ],
 "metadata": {
  "kernelspec": {
   "name": "python3",
   "language": "python",
   "display_name": "Python 3 (ipykernel)"
  }
 },
 "nbformat": 4,
 "nbformat_minor": 5
}
