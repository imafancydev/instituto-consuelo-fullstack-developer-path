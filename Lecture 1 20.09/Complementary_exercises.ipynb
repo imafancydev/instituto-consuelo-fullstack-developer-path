{
 "cells": [
  {
   "cell_type": "markdown",
   "id": "363712b4",
   "metadata": {},
   "source": [
    "\n",
    "# 🏡 Atividades Assíncronas de Banco de Dados\n",
    "\n",
    "Aluno: **Lucas Augusto Vieira Leão**\n",
    "Data: **20/09/2025**\n",
    "Disciplina: **Banco de Dados**  \n",
    "Professor: **Douglas Silva & Júlio César Brito**\n"
   ]
  },
  {
   "cell_type": "markdown",
   "id": "1b8a792c",
   "metadata": {},
   "source": [
    "\n",
    "## 1. Pesquisa sobre SGBDs\n",
    "\n",
    "### Descrição\n",
    "Pesquisei sobre o SGBD **SQLite**.\n",
    "\n",
    "### Texto\n",
    "Principais características: Leve, rápido e confiável\n",
    "Casos de uso típicos: Vi que ele não precisa de servidor dedicado, então seria uma boa opção para aplicações IoT ou sistemas embarcados, para aplicações web simples que só precisam armazenar o básico, também me parece uma boa.\n",
    "Vantagens: Leve e simples como não precisa de servidor, roda direto em arquivos, armazenamento local e simples, uma boa para app mobile.\n",
    "Desvantagens: Por ser leve e simples, escalar com ele nao e uma boa ideia, logo, ele tem recursos limitados então ele so serve para fazer coisas simples.\n"
   ]
  },
  {
   "cell_type": "markdown",
   "id": "e98acba8",
   "metadata": {},
   "source": [
    "\n",
    "## 2. Script SQL Prático\n",
    "\n",
    "### Criação de Tabelas e Inserção de Dados\n",
    "Explicação breve sobre as tabelas escolhidas.\n"
   ]
  },
  {
   "metadata": {
    "SqlCellData": {
     "variableName$1": "df_sql1"
    }
   },
   "cell_type": "code",
   "source": [
    "%%sql\n",
    "\n",
    "-- Criação das tabelas\n",
    "CREATE TABLE itens_dark_souls(\n",
    "    id_item SERIAL PRIMARY KEY,\n",
    "    nome VARCHAR(100) NOT NULL\n",
    ");\n",
    "\n",
    "CREATE TABLE itens(\n",
    "    id_item SERIAL PRIMARY KEY,\n",
    "    id_item_dark_souls INT NOT NULL,\n",
    "    nome VARCHAR(100) NOT NULL,\n",
    "    tipo VARCHAR(100) NOT NULL,\n",
    "    item_description LONGTEXT NOT NULL,\n",
    "   FOREIGN KEY (id_item_dark_souls) REFERENCES itens_dark_souls(id_item)\n",
    ")\n"
   ],
   "id": "15015b8ebe2b5f9b",
   "outputs": [],
   "execution_count": null
  },
  {
   "cell_type": "code",
   "id": "0fb729aa",
   "metadata": {},
   "source": [
    "\n",
    "-- Inserção de dados\n",
    "INSERT INTO itens_dark_souls (nome)\n"
   ],
   "outputs": [],
   "execution_count": null
  },
  {
   "cell_type": "code",
   "id": "e3a8730a",
   "metadata": {},
   "source": [
    "\n",
    "-- Consultas WHERE\n",
    "SELECT ...;\n"
   ],
   "outputs": [],
   "execution_count": null
  },
  {
   "cell_type": "code",
   "id": "34a3329a",
   "metadata": {},
   "source": [
    "\n",
    "-- Consulta ORDER BY\n",
    "SELECT ...;\n"
   ],
   "outputs": [],
   "execution_count": null
  },
  {
   "cell_type": "code",
   "id": "71082326",
   "metadata": {},
   "source": [
    "\n",
    "-- Consulta com JOIN\n",
    "SELECT ...;\n"
   ],
   "outputs": [],
   "execution_count": null
  },
  {
   "cell_type": "markdown",
   "id": "4dc1592c",
   "metadata": {},
   "source": [
    "\n",
    "## 3. Modelagem de Sistema\n",
    "\n",
    "### Sistema escolhido: Escola\n",
    "\n",
    "- Tabelas: Alunos, Turmas, Professores, Disciplinas, Matrículas  \n",
    "- Relacionamentos explicados  \n",
    "- Justificativa dos tipos de dados  \n",
    "- Identificação das chaves primárias e estrangeiras  \n",
    "\n",
    "*(Se quiser, pode incluir um diagrama simples com Mermaid ou até uma imagem exportada do Draw.io.)*\n"
   ]
  },
  {
   "cell_type": "markdown",
   "id": "392044c3",
   "metadata": {},
   "source": [
    "\n",
    "## 4. Leitura Complementar\n",
    "\n",
    "### Resumo da leitura\n",
    "- Principais pontos aprendidos no capítulo/artigo  \n",
    "- Relação com os exercícios práticos  \n"
   ]
  },
  {
   "cell_type": "markdown",
   "id": "61ab30db",
   "metadata": {},
   "source": [
    "\n",
    "## 5. Reflexão Crítica\n",
    "\n",
    "### Tema: SQL vs. Excel\n",
    "Escreva aqui o texto de 1 página sobre quando usar SQL/Banco de Dados e quando usar Excel.\n"
   ]
  },
  {
   "cell_type": "markdown",
   "id": "c95ef27f",
   "metadata": {},
   "source": [
    "\n",
    "## 6. Prática com Dataset Real\n",
    "\n",
    "### Dataset escolhido\n",
    "- Fonte: (coloque o link do CSV)  \n",
    "- Descrição dos dados\n"
   ]
  },
  {
   "cell_type": "code",
   "id": "edf756ab",
   "metadata": {},
   "source": [
    "\n",
    "# Importando bibliotecas\n",
    "import pandas as pd\n",
    "import sqlalchemy\n",
    "\n",
    "# Carregar dataset no Pandas\n",
    "df = pd.read_csv(\"arquivo.csv\")\n",
    "df.head()\n"
   ],
   "outputs": [],
   "execution_count": null
  },
  {
   "cell_type": "code",
   "id": "90f2d253",
   "metadata": {},
   "source": [
    "\n",
    "-- Criação da tabela no PostgreSQL\n",
    "CREATE TABLE ...;\n"
   ],
   "outputs": [],
   "execution_count": null
  },
  {
   "cell_type": "code",
   "id": "c782914a",
   "metadata": {},
   "source": [
    "\n",
    "-- Consultas SQL\n",
    "SELECT ...;\n"
   ],
   "outputs": [],
   "execution_count": null
  },
  {
   "cell_type": "markdown",
   "id": "b487d84a",
   "metadata": {},
   "source": [
    "\n",
    "### Insights encontrados\n",
    "1. ...\n",
    "2. ...\n",
    "3. ...\n"
   ]
  }
 ],
 "metadata": {
  "kernelspec": {
   "name": "python3",
   "language": "python",
   "display_name": "Python 3 (ipykernel)"
  }
 },
 "nbformat": 4,
 "nbformat_minor": 5
}
